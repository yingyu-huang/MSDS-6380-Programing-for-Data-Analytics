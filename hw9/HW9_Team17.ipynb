{
 "cells": [
  {
   "cell_type": "code",
   "execution_count": 2,
   "metadata": {},
   "outputs": [],
   "source": [
    "# Homework 9 by Team 17\n",
    "import pandas as pd\n",
    "from datetime import datetime\n",
    "# Read-in three datasets\n",
    "student = pd.read_excel('Student.xlsx',index_col=None)\n",
    "tutor = pd. read_excel('Tutor.xlsx',index_col=None)\n",
    "match = pd.read_excel('Match_History.xlsx',index_col=None)"
   ]
  },
  {
   "cell_type": "code",
   "execution_count": 3,
   "metadata": {},
   "outputs": [
    {
     "name": "stdout",
     "output_type": "stream",
     "text": [
      "#Question1:Which tutors have a Dropped status and have achieved their certification after 4/01/2018?\n",
      "   TutorID   CertDate TutorStatus\n",
      "7      107 2018-05-01     Dropped\n"
     ]
    }
   ],
   "source": [
    "#Question1\n",
    "dropped = tutor[(tutor['TutorStatus']=='Dropped')&(tutor['CertDate']>'2018-04-01')]\n",
    "print('#Question1:Which tutors have a Dropped status and have achieved their certification after 4/01/2018?')\n",
    "print(dropped)"
   ]
  },
  {
   "cell_type": "code",
   "execution_count": 4,
   "metadata": {},
   "outputs": [
    {
     "name": "stdout",
     "output_type": "stream",
     "text": [
      "#Question2:What is the average length of time a student stayed (or has stayed) in the program? \n",
      "318 days 00:37:21.685953\n"
     ]
    }
   ],
   "source": [
    "#Question2\n",
    "today = datetime.today()   # current date\n",
    "match.fillna(today,inplace=True)\n",
    "difference = match['EndDate']-match['StartDate']    # length of time\n",
    "mean1 = difference.mean()\n",
    "print('#Question2:What is the average length of time a student stayed (or has stayed) in the program? ')\n",
    "print(mean1)"
   ]
  },
  {
   "cell_type": "code",
   "execution_count": 5,
   "metadata": {},
   "outputs": [
    {
     "name": "stdout",
     "output_type": "stream",
     "text": [
      "   MatchID  TutorID  StudentID  StartDate                    EndDate  \\\n",
      "0        1      100       3000 2018-01-10 2019-12-06 13:14:43.371907   \n",
      "1        8      100       3001 2018-05-28 2019-12-06 13:14:43.371907   \n",
      "2        2      101       3001 2018-01-15 2018-05-15 00:00:00.000000   \n",
      "3        3      102       3002 2018-02-10 2018-03-01 00:00:00.000000   \n",
      "4        4      106       3003 2018-05-28 2019-12-06 13:14:43.371907   \n",
      "5        5      103       3004 2018-06-01 2018-06-15 00:00:00.000000   \n",
      "6        6      104       3005 2018-06-01 2018-06-28 00:00:00.000000   \n",
      "7        7      104       3006 2018-06-01 2019-12-06 13:14:43.371907   \n",
      "\n",
      "    CertDate TutorStatus  \n",
      "0 2018-01-05      Active  \n",
      "1 2018-01-05      Active  \n",
      "2 2018-01-05   Temp Stop  \n",
      "3 2018-01-05     Dropped  \n",
      "4 2018-05-22      Active  \n",
      "5 2018-05-22      Active  \n",
      "6 2018-05-22      Active  \n",
      "7 2018-05-22      Active  \n"
     ]
    }
   ],
   "source": [
    "#Question3\n",
    "tempStudent = pd.merge(match,tutor,on='TutorID')    # All the matches happened in 2018\n",
    "print(tempStudent)\n"
   ]
  },
  {
   "cell_type": "code",
   "execution_count": 10,
   "metadata": {},
   "outputs": [
    {
     "data": {
      "text/plain": [
       "2    3001\n",
       "Name: StudentID, dtype: int64"
      ]
     },
     "execution_count": 10,
     "metadata": {},
     "output_type": "execute_result"
    }
   ],
   "source": [
    "tempMatch = tempStudent[(tempStudent['TutorStatus']=='Temp Stop')]\n",
    "tempMatch \n",
    "tempMatch['StudentID']"
   ]
  },
  {
   "cell_type": "code",
   "execution_count": 6,
   "metadata": {},
   "outputs": [
    {
     "name": "stdout",
     "output_type": "stream",
     "text": [
      "#Question3:Identify all students who have been matched in 2018 with a tutor whose status is Temp Stop. \n",
      "[3001]\n"
     ]
    }
   ],
   "source": [
    "tempMatch = tempStudent[(tempStudent['TutorStatus']=='Temp Stop')]\n",
    "print('#Question3:Identify all students who have been matched in 2018 with a tutor whose status is Temp Stop. ')\n",
    "mylist3 = tempMatch['StudentID'].tolist()\n",
    "print(mylist3)"
   ]
  },
  {
   "cell_type": "code",
   "execution_count": 5,
   "metadata": {},
   "outputs": [
    {
     "name": "stdout",
     "output_type": "stream",
     "text": [
      "#Question4:List the Read scores of students who were ever taught by tutors whose status is Dropped.\n",
      "[1.3]\n"
     ]
    }
   ],
   "source": [
    "#Question4\n",
    "readScore = pd.merge(tempStudent, student,on='StudentID',how = 'outer')\n",
    "dropStudent = readScore[(readScore['TutorStatus']=='Dropped')]\n",
    "mylist4 = dropStudent[\"ReadScore\"].tolist()\n",
    "print('#Question4:List the Read scores of students who were ever taught by tutors whose status is Dropped.')\n",
    "print(mylist4)"
   ]
  },
  {
   "cell_type": "code",
   "execution_count": 11,
   "metadata": {},
   "outputs": [
    {
     "data": {
      "text/html": [
       "<div>\n",
       "<style scoped>\n",
       "    .dataframe tbody tr th:only-of-type {\n",
       "        vertical-align: middle;\n",
       "    }\n",
       "\n",
       "    .dataframe tbody tr th {\n",
       "        vertical-align: top;\n",
       "    }\n",
       "\n",
       "    .dataframe thead th {\n",
       "        text-align: right;\n",
       "    }\n",
       "</style>\n",
       "<table border=\"1\" class=\"dataframe\">\n",
       "  <thead>\n",
       "    <tr style=\"text-align: right;\">\n",
       "      <th></th>\n",
       "      <th>MatchID</th>\n",
       "      <th>TutorID</th>\n",
       "      <th>StudentID</th>\n",
       "      <th>StartDate</th>\n",
       "      <th>EndDate</th>\n",
       "      <th>CertDate</th>\n",
       "      <th>TutorStatus</th>\n",
       "      <th>StudentGroup</th>\n",
       "      <th>ReadScore</th>\n",
       "    </tr>\n",
       "  </thead>\n",
       "  <tbody>\n",
       "    <tr>\n",
       "      <th>0</th>\n",
       "      <td>1.0</td>\n",
       "      <td>100.0</td>\n",
       "      <td>3000</td>\n",
       "      <td>2018-01-10</td>\n",
       "      <td>2019-12-06 13:14:43.371907</td>\n",
       "      <td>2018-01-05</td>\n",
       "      <td>Active</td>\n",
       "      <td>3</td>\n",
       "      <td>2.3</td>\n",
       "    </tr>\n",
       "    <tr>\n",
       "      <th>1</th>\n",
       "      <td>8.0</td>\n",
       "      <td>100.0</td>\n",
       "      <td>3001</td>\n",
       "      <td>2018-05-28</td>\n",
       "      <td>2019-12-06 13:14:43.371907</td>\n",
       "      <td>2018-01-05</td>\n",
       "      <td>Active</td>\n",
       "      <td>2</td>\n",
       "      <td>5.6</td>\n",
       "    </tr>\n",
       "    <tr>\n",
       "      <th>2</th>\n",
       "      <td>2.0</td>\n",
       "      <td>101.0</td>\n",
       "      <td>3001</td>\n",
       "      <td>2018-01-15</td>\n",
       "      <td>2018-05-15 00:00:00.000000</td>\n",
       "      <td>2018-01-05</td>\n",
       "      <td>Temp Stop</td>\n",
       "      <td>2</td>\n",
       "      <td>5.6</td>\n",
       "    </tr>\n",
       "    <tr>\n",
       "      <th>3</th>\n",
       "      <td>3.0</td>\n",
       "      <td>102.0</td>\n",
       "      <td>3002</td>\n",
       "      <td>2018-02-10</td>\n",
       "      <td>2018-03-01 00:00:00.000000</td>\n",
       "      <td>2018-01-05</td>\n",
       "      <td>Dropped</td>\n",
       "      <td>3</td>\n",
       "      <td>1.3</td>\n",
       "    </tr>\n",
       "    <tr>\n",
       "      <th>4</th>\n",
       "      <td>4.0</td>\n",
       "      <td>106.0</td>\n",
       "      <td>3003</td>\n",
       "      <td>2018-05-28</td>\n",
       "      <td>2019-12-06 13:14:43.371907</td>\n",
       "      <td>2018-05-22</td>\n",
       "      <td>Active</td>\n",
       "      <td>1</td>\n",
       "      <td>3.3</td>\n",
       "    </tr>\n",
       "    <tr>\n",
       "      <th>5</th>\n",
       "      <td>5.0</td>\n",
       "      <td>103.0</td>\n",
       "      <td>3004</td>\n",
       "      <td>2018-06-01</td>\n",
       "      <td>2018-06-15 00:00:00.000000</td>\n",
       "      <td>2018-05-22</td>\n",
       "      <td>Active</td>\n",
       "      <td>2</td>\n",
       "      <td>2.7</td>\n",
       "    </tr>\n",
       "    <tr>\n",
       "      <th>6</th>\n",
       "      <td>6.0</td>\n",
       "      <td>104.0</td>\n",
       "      <td>3005</td>\n",
       "      <td>2018-06-01</td>\n",
       "      <td>2018-06-28 00:00:00.000000</td>\n",
       "      <td>2018-05-22</td>\n",
       "      <td>Active</td>\n",
       "      <td>4</td>\n",
       "      <td>4.8</td>\n",
       "    </tr>\n",
       "    <tr>\n",
       "      <th>7</th>\n",
       "      <td>7.0</td>\n",
       "      <td>104.0</td>\n",
       "      <td>3006</td>\n",
       "      <td>2018-06-01</td>\n",
       "      <td>2019-12-06 13:14:43.371907</td>\n",
       "      <td>2018-05-22</td>\n",
       "      <td>Active</td>\n",
       "      <td>3</td>\n",
       "      <td>7.8</td>\n",
       "    </tr>\n",
       "    <tr>\n",
       "      <th>8</th>\n",
       "      <td>NaN</td>\n",
       "      <td>NaN</td>\n",
       "      <td>3007</td>\n",
       "      <td>NaT</td>\n",
       "      <td>NaT</td>\n",
       "      <td>NaT</td>\n",
       "      <td>NaN</td>\n",
       "      <td>4</td>\n",
       "      <td>1.5</td>\n",
       "    </tr>\n",
       "  </tbody>\n",
       "</table>\n",
       "</div>"
      ],
      "text/plain": [
       "   MatchID  TutorID  StudentID  StartDate                    EndDate  \\\n",
       "0      1.0    100.0       3000 2018-01-10 2019-12-06 13:14:43.371907   \n",
       "1      8.0    100.0       3001 2018-05-28 2019-12-06 13:14:43.371907   \n",
       "2      2.0    101.0       3001 2018-01-15 2018-05-15 00:00:00.000000   \n",
       "3      3.0    102.0       3002 2018-02-10 2018-03-01 00:00:00.000000   \n",
       "4      4.0    106.0       3003 2018-05-28 2019-12-06 13:14:43.371907   \n",
       "5      5.0    103.0       3004 2018-06-01 2018-06-15 00:00:00.000000   \n",
       "6      6.0    104.0       3005 2018-06-01 2018-06-28 00:00:00.000000   \n",
       "7      7.0    104.0       3006 2018-06-01 2019-12-06 13:14:43.371907   \n",
       "8      NaN      NaN       3007        NaT                        NaT   \n",
       "\n",
       "    CertDate TutorStatus  StudentGroup  ReadScore  \n",
       "0 2018-01-05      Active             3        2.3  \n",
       "1 2018-01-05      Active             2        5.6  \n",
       "2 2018-01-05   Temp Stop             2        5.6  \n",
       "3 2018-01-05     Dropped             3        1.3  \n",
       "4 2018-05-22      Active             1        3.3  \n",
       "5 2018-05-22      Active             2        2.7  \n",
       "6 2018-05-22      Active             4        4.8  \n",
       "7 2018-05-22      Active             3        7.8  \n",
       "8        NaT         NaN             4        1.5  "
      ]
     },
     "execution_count": 11,
     "metadata": {},
     "output_type": "execute_result"
    }
   ],
   "source": [
    "readScore = pd.merge(tempStudent, student,on='StudentID',how = 'outer')\n",
    "readScore"
   ]
  },
  {
   "cell_type": "code",
   "execution_count": 13,
   "metadata": {},
   "outputs": [
    {
     "data": {
      "text/html": [
       "<div>\n",
       "<style scoped>\n",
       "    .dataframe tbody tr th:only-of-type {\n",
       "        vertical-align: middle;\n",
       "    }\n",
       "\n",
       "    .dataframe tbody tr th {\n",
       "        vertical-align: top;\n",
       "    }\n",
       "\n",
       "    .dataframe thead th {\n",
       "        text-align: right;\n",
       "    }\n",
       "</style>\n",
       "<table border=\"1\" class=\"dataframe\">\n",
       "  <thead>\n",
       "    <tr style=\"text-align: right;\">\n",
       "      <th></th>\n",
       "      <th>MatchID</th>\n",
       "      <th>TutorID</th>\n",
       "      <th>StudentID</th>\n",
       "      <th>StartDate</th>\n",
       "      <th>EndDate</th>\n",
       "      <th>CertDate</th>\n",
       "      <th>TutorStatus</th>\n",
       "      <th>StudentGroup</th>\n",
       "      <th>ReadScore</th>\n",
       "    </tr>\n",
       "  </thead>\n",
       "  <tbody>\n",
       "    <tr>\n",
       "      <th>3</th>\n",
       "      <td>3.0</td>\n",
       "      <td>102.0</td>\n",
       "      <td>3002</td>\n",
       "      <td>2018-02-10</td>\n",
       "      <td>2018-03-01</td>\n",
       "      <td>2018-01-05</td>\n",
       "      <td>Dropped</td>\n",
       "      <td>3</td>\n",
       "      <td>1.3</td>\n",
       "    </tr>\n",
       "  </tbody>\n",
       "</table>\n",
       "</div>"
      ],
      "text/plain": [
       "   MatchID  TutorID  StudentID  StartDate    EndDate   CertDate TutorStatus  \\\n",
       "3      3.0    102.0       3002 2018-02-10 2018-03-01 2018-01-05     Dropped   \n",
       "\n",
       "   StudentGroup  ReadScore  \n",
       "3             3        1.3  "
      ]
     },
     "execution_count": 13,
     "metadata": {},
     "output_type": "execute_result"
    }
   ],
   "source": [
    "dropStudent =readScore[(readScore['TutorStatus']=='Dropped')]\n",
    "dropStudent "
   ]
  },
  {
   "cell_type": "code",
   "execution_count": 15,
   "metadata": {},
   "outputs": [
    {
     "data": {
      "text/plain": [
       "[1.3]"
      ]
     },
     "execution_count": 15,
     "metadata": {},
     "output_type": "execute_result"
    }
   ],
   "source": [
    "dropStudent ['ReadScore'].tolist()"
   ]
  },
  {
   "cell_type": "code",
   "execution_count": null,
   "metadata": {},
   "outputs": [],
   "source": []
  },
  {
   "cell_type": "code",
   "execution_count": 6,
   "metadata": {},
   "outputs": [
    {
     "name": "stdout",
     "output_type": "stream",
     "text": [
      "#Question5:List the tutors who taught two or more students.\n",
      "100 2\n",
      "104 2\n"
     ]
    }
   ],
   "source": [
    "#Question5\n",
    "tutor_2 = match.groupby(['TutorID'])['StudentID'].count()\n",
    "dict1 = tutor_2.to_dict()\n",
    "print('#Question5:List the tutors who taught two or more students.')\n",
    "for key,value in dict1.items():\n",
    "    if value >=2:\n",
    "        print(key,value)"
   ]
  },
  {
   "cell_type": "code",
   "execution_count": 19,
   "metadata": {},
   "outputs": [
    {
     "data": {
      "text/plain": [
       "TutorID\n",
       "100    2\n",
       "101    1\n",
       "102    1\n",
       "103    1\n",
       "104    2\n",
       "106    1\n",
       "Name: StudentID, dtype: int64"
      ]
     },
     "execution_count": 19,
     "metadata": {},
     "output_type": "execute_result"
    }
   ],
   "source": [
    "match['StudentID'].groupby(match['TutorID']).count()"
   ]
  },
  {
   "cell_type": "code",
   "execution_count": null,
   "metadata": {},
   "outputs": [],
   "source": []
  },
  {
   "cell_type": "code",
   "execution_count": 7,
   "metadata": {},
   "outputs": [
    {
     "name": "stdout",
     "output_type": "stream",
     "text": [
      "#Question6\n",
      "   StudentID  ReadScore  TutorID TutorStatus\n",
      "0       3000        2.3      100      Active\n",
      "1       3001        5.6      100      Active\n",
      "2       3001        5.6      101   Temp Stop\n",
      "3       3002        1.3      102     Dropped\n",
      "4       3003        3.3      106      Active\n",
      "5       3004        2.7      103      Active\n",
      "6       3005        4.8      104      Active\n",
      "7       3006        7.8      104      Active\n"
     ]
    }
   ],
   "source": [
    "#Question6\n",
    "allStudent =  pd.merge(match,student, on='StudentID')\n",
    "studentsAll = pd.merge(allStudent, tutor, on='TutorID')\n",
    "columns = ['StudentID', 'ReadScore', 'TutorID', 'TutorStatus']\n",
    "data6 = pd.DataFrame(studentsAll, columns=columns)\n",
    "print('#Question6')\n",
    "print(data6)\n",
    "writer = pd.ExcelWriter(\"Student_Tutor.xlsx\")   # Store all the information\n",
    "data6.to_excel(writer, 'Sheet1')\n",
    "writer.save()"
   ]
  },
  {
   "cell_type": "code",
   "execution_count": 20,
   "metadata": {},
   "outputs": [
    {
     "data": {
      "text/html": [
       "<div>\n",
       "<style scoped>\n",
       "    .dataframe tbody tr th:only-of-type {\n",
       "        vertical-align: middle;\n",
       "    }\n",
       "\n",
       "    .dataframe tbody tr th {\n",
       "        vertical-align: top;\n",
       "    }\n",
       "\n",
       "    .dataframe thead th {\n",
       "        text-align: right;\n",
       "    }\n",
       "</style>\n",
       "<table border=\"1\" class=\"dataframe\">\n",
       "  <thead>\n",
       "    <tr style=\"text-align: right;\">\n",
       "      <th></th>\n",
       "      <th>MatchID</th>\n",
       "      <th>TutorID</th>\n",
       "      <th>StudentID</th>\n",
       "      <th>StartDate</th>\n",
       "      <th>EndDate</th>\n",
       "      <th>CertDate</th>\n",
       "      <th>TutorStatus</th>\n",
       "      <th>StudentGroup</th>\n",
       "      <th>ReadScore</th>\n",
       "    </tr>\n",
       "  </thead>\n",
       "  <tbody>\n",
       "    <tr>\n",
       "      <th>0</th>\n",
       "      <td>1.0</td>\n",
       "      <td>100.0</td>\n",
       "      <td>3000</td>\n",
       "      <td>2018-01-10</td>\n",
       "      <td>2019-12-06 13:14:43.371907</td>\n",
       "      <td>2018-01-05</td>\n",
       "      <td>Active</td>\n",
       "      <td>3</td>\n",
       "      <td>2.3</td>\n",
       "    </tr>\n",
       "    <tr>\n",
       "      <th>1</th>\n",
       "      <td>8.0</td>\n",
       "      <td>100.0</td>\n",
       "      <td>3001</td>\n",
       "      <td>2018-05-28</td>\n",
       "      <td>2019-12-06 13:14:43.371907</td>\n",
       "      <td>2018-01-05</td>\n",
       "      <td>Active</td>\n",
       "      <td>2</td>\n",
       "      <td>5.6</td>\n",
       "    </tr>\n",
       "    <tr>\n",
       "      <th>2</th>\n",
       "      <td>2.0</td>\n",
       "      <td>101.0</td>\n",
       "      <td>3001</td>\n",
       "      <td>2018-01-15</td>\n",
       "      <td>2018-05-15 00:00:00.000000</td>\n",
       "      <td>2018-01-05</td>\n",
       "      <td>Temp Stop</td>\n",
       "      <td>2</td>\n",
       "      <td>5.6</td>\n",
       "    </tr>\n",
       "    <tr>\n",
       "      <th>3</th>\n",
       "      <td>3.0</td>\n",
       "      <td>102.0</td>\n",
       "      <td>3002</td>\n",
       "      <td>2018-02-10</td>\n",
       "      <td>2018-03-01 00:00:00.000000</td>\n",
       "      <td>2018-01-05</td>\n",
       "      <td>Dropped</td>\n",
       "      <td>3</td>\n",
       "      <td>1.3</td>\n",
       "    </tr>\n",
       "    <tr>\n",
       "      <th>4</th>\n",
       "      <td>4.0</td>\n",
       "      <td>106.0</td>\n",
       "      <td>3003</td>\n",
       "      <td>2018-05-28</td>\n",
       "      <td>2019-12-06 13:14:43.371907</td>\n",
       "      <td>2018-05-22</td>\n",
       "      <td>Active</td>\n",
       "      <td>1</td>\n",
       "      <td>3.3</td>\n",
       "    </tr>\n",
       "    <tr>\n",
       "      <th>5</th>\n",
       "      <td>5.0</td>\n",
       "      <td>103.0</td>\n",
       "      <td>3004</td>\n",
       "      <td>2018-06-01</td>\n",
       "      <td>2018-06-15 00:00:00.000000</td>\n",
       "      <td>2018-05-22</td>\n",
       "      <td>Active</td>\n",
       "      <td>2</td>\n",
       "      <td>2.7</td>\n",
       "    </tr>\n",
       "    <tr>\n",
       "      <th>6</th>\n",
       "      <td>6.0</td>\n",
       "      <td>104.0</td>\n",
       "      <td>3005</td>\n",
       "      <td>2018-06-01</td>\n",
       "      <td>2018-06-28 00:00:00.000000</td>\n",
       "      <td>2018-05-22</td>\n",
       "      <td>Active</td>\n",
       "      <td>4</td>\n",
       "      <td>4.8</td>\n",
       "    </tr>\n",
       "    <tr>\n",
       "      <th>7</th>\n",
       "      <td>7.0</td>\n",
       "      <td>104.0</td>\n",
       "      <td>3006</td>\n",
       "      <td>2018-06-01</td>\n",
       "      <td>2019-12-06 13:14:43.371907</td>\n",
       "      <td>2018-05-22</td>\n",
       "      <td>Active</td>\n",
       "      <td>3</td>\n",
       "      <td>7.8</td>\n",
       "    </tr>\n",
       "    <tr>\n",
       "      <th>8</th>\n",
       "      <td>NaN</td>\n",
       "      <td>NaN</td>\n",
       "      <td>3007</td>\n",
       "      <td>NaT</td>\n",
       "      <td>NaT</td>\n",
       "      <td>NaT</td>\n",
       "      <td>NaN</td>\n",
       "      <td>4</td>\n",
       "      <td>1.5</td>\n",
       "    </tr>\n",
       "  </tbody>\n",
       "</table>\n",
       "</div>"
      ],
      "text/plain": [
       "   MatchID  TutorID  StudentID  StartDate                    EndDate  \\\n",
       "0      1.0    100.0       3000 2018-01-10 2019-12-06 13:14:43.371907   \n",
       "1      8.0    100.0       3001 2018-05-28 2019-12-06 13:14:43.371907   \n",
       "2      2.0    101.0       3001 2018-01-15 2018-05-15 00:00:00.000000   \n",
       "3      3.0    102.0       3002 2018-02-10 2018-03-01 00:00:00.000000   \n",
       "4      4.0    106.0       3003 2018-05-28 2019-12-06 13:14:43.371907   \n",
       "5      5.0    103.0       3004 2018-06-01 2018-06-15 00:00:00.000000   \n",
       "6      6.0    104.0       3005 2018-06-01 2018-06-28 00:00:00.000000   \n",
       "7      7.0    104.0       3006 2018-06-01 2019-12-06 13:14:43.371907   \n",
       "8      NaN      NaN       3007        NaT                        NaT   \n",
       "\n",
       "    CertDate TutorStatus  StudentGroup  ReadScore  \n",
       "0 2018-01-05      Active             3        2.3  \n",
       "1 2018-01-05      Active             2        5.6  \n",
       "2 2018-01-05   Temp Stop             2        5.6  \n",
       "3 2018-01-05     Dropped             3        1.3  \n",
       "4 2018-05-22      Active             1        3.3  \n",
       "5 2018-05-22      Active             2        2.7  \n",
       "6 2018-05-22      Active             4        4.8  \n",
       "7 2018-05-22      Active             3        7.8  \n",
       "8        NaT         NaN             4        1.5  "
      ]
     },
     "execution_count": 20,
     "metadata": {},
     "output_type": "execute_result"
    }
   ],
   "source": [
    "readScore"
   ]
  },
  {
   "cell_type": "code",
   "execution_count": 27,
   "metadata": {},
   "outputs": [
    {
     "data": {
      "text/plain": [
       "<bound method NDFrame.to_excel of    StudentID  ReadScore  TutorID TutorStatus\n",
       "0       3000        2.3    100.0      Active\n",
       "1       3001        5.6    100.0      Active\n",
       "2       3001        5.6    101.0   Temp Stop\n",
       "3       3002        1.3    102.0     Dropped\n",
       "4       3003        3.3    106.0      Active\n",
       "5       3004        2.7    103.0      Active\n",
       "6       3005        4.8    104.0      Active\n",
       "7       3006        7.8    104.0      Active\n",
       "8       3007        1.5      NaN         NaN>"
      ]
     },
     "execution_count": 27,
     "metadata": {},
     "output_type": "execute_result"
    }
   ],
   "source": [
    "columns = ['StudentID', 'ReadScore', 'TutorID', 'TutorStatus']\n",
    "data6=pd.DataFrame(readScore, columns=columns)\n",
    "data6.to_excel"
   ]
  },
  {
   "cell_type": "code",
   "execution_count": 8,
   "metadata": {},
   "outputs": [
    {
     "name": "stdout",
     "output_type": "stream",
     "text": [
      "#Question7:For each student group, list the number of tutors who have been matched with that group.\n",
      "StudentGroup\n",
      "1    1\n",
      "2    3\n",
      "3    3\n",
      "4    1\n",
      "Name: TutorID, dtype: int64\n"
     ]
    }
   ],
   "source": [
    "#Question7\n",
    "student_Group = readScore.groupby(['StudentGroup'])['TutorID'].count()\n",
    "print('#Question7:For each student group, list the number of tutors who have been matched with that group.')\n",
    "print(student_Group)"
   ]
  },
  {
   "cell_type": "code",
   "execution_count": 28,
   "metadata": {},
   "outputs": [
    {
     "data": {
      "text/plain": [
       "StudentGroup\n",
       "1    1\n",
       "2    3\n",
       "3    3\n",
       "4    1\n",
       "Name: TutorID, dtype: int64"
      ]
     },
     "execution_count": 28,
     "metadata": {},
     "output_type": "execute_result"
    }
   ],
   "source": [
    "readScore['TutorID'].groupby(readScore['StudentGroup']).count()"
   ]
  },
  {
   "cell_type": "code",
   "execution_count": null,
   "metadata": {},
   "outputs": [],
   "source": []
  },
  {
   "cell_type": "code",
   "execution_count": null,
   "metadata": {},
   "outputs": [],
   "source": []
  },
  {
   "cell_type": "code",
   "execution_count": 9,
   "metadata": {},
   "outputs": [
    {
     "name": "stdout",
     "output_type": "stream",
     "text": [
      "#Question8:List all active students who started in May and June. \n",
      "[3001 3003 3006]\n"
     ]
    }
   ],
   "source": [
    "#Question8\n",
    "readScore['StartDate']=pd.to_datetime(readScore['StartDate'])\n",
    "readScore['Month']=readScore['StartDate'].dt.month\n",
    "data8=readScore[(readScore['Month'].isin ([5,6]))&(readScore['EndDate']>='06/30/2018')]   # who are still active\n",
    "print('#Question8:List all active students who started in May and June. ')\n",
    "mylist8=data8['StudentID'].values\n",
    "print(mylist8)"
   ]
  },
  {
   "cell_type": "code",
   "execution_count": 29,
   "metadata": {},
   "outputs": [
    {
     "data": {
      "text/plain": [
       "0   2018-01-10\n",
       "1   2018-05-28\n",
       "2   2018-01-15\n",
       "3   2018-02-10\n",
       "4   2018-05-28\n",
       "5   2018-06-01\n",
       "6   2018-06-01\n",
       "7   2018-06-01\n",
       "8          NaT\n",
       "Name: StartDate, dtype: datetime64[ns]"
      ]
     },
     "execution_count": 29,
     "metadata": {},
     "output_type": "execute_result"
    }
   ],
   "source": [
    "pd.to_datetime(readScore['StartDate'])"
   ]
  },
  {
   "cell_type": "code",
   "execution_count": 30,
   "metadata": {},
   "outputs": [
    {
     "data": {
      "text/plain": [
       "0    1.0\n",
       "1    5.0\n",
       "2    1.0\n",
       "3    2.0\n",
       "4    5.0\n",
       "5    6.0\n",
       "6    6.0\n",
       "7    6.0\n",
       "8    NaN\n",
       "Name: StartDate, dtype: float64"
      ]
     },
     "execution_count": 30,
     "metadata": {},
     "output_type": "execute_result"
    }
   ],
   "source": [
    "readScore['StartDate'].dt.month"
   ]
  },
  {
   "cell_type": "code",
   "execution_count": null,
   "metadata": {},
   "outputs": [],
   "source": []
  },
  {
   "cell_type": "code",
   "execution_count": 11,
   "metadata": {},
   "outputs": [
    {
     "name": "stdout",
     "output_type": "stream",
     "text": [
      "#Question9:Find students who have not been tutored yet. The StudentID is\n",
      "[3007]\n"
     ]
    }
   ],
   "source": [
    "#Question9\n",
    "allStudent=pd.merge(match,student,how='outer')\n",
    "#print(allStudent)\n",
    "noTutor=allStudent[allStudent['TutorID'].isnull()]\n",
    "print('#Question9:Find students who have not been tutored yet. The StudentID is')\n",
    "mylist9=noTutor['StudentID'].tolist()\n",
    "print(mylist9)"
   ]
  },
  {
   "cell_type": "code",
   "execution_count": 13,
   "metadata": {},
   "outputs": [
    {
     "name": "stdout",
     "output_type": "stream",
     "text": [
      "#Question10:Find tutors who did not tutor any students. Those TutorIDs are \n",
      "[105, 107]\n"
     ]
    }
   ],
   "source": [
    "#Question10\n",
    "allTutor=pd.merge(match,tutor,how='outer')\n",
    "#print(allTutor)\n",
    "noStudent=allTutor[allTutor['StudentID'].isnull()]\n",
    "print('#Question10:Find tutors who did not tutor any students. Those TutorIDs are ')\n",
    "mylist10=noStudent['TutorID'].tolist()\n",
    "print(mylist10)"
   ]
  },
  {
   "cell_type": "code",
   "execution_count": null,
   "metadata": {},
   "outputs": [],
   "source": []
  }
 ],
 "metadata": {
  "kernelspec": {
   "display_name": "Python 3",
   "language": "python",
   "name": "python3"
  },
  "language_info": {
   "codemirror_mode": {
    "name": "ipython",
    "version": 3
   },
   "file_extension": ".py",
   "mimetype": "text/x-python",
   "name": "python",
   "nbconvert_exporter": "python",
   "pygments_lexer": "ipython3",
   "version": "3.7.3"
  }
 },
 "nbformat": 4,
 "nbformat_minor": 2
}
