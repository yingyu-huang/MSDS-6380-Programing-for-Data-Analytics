{
 "cells": [
  {
   "cell_type": "code",
   "execution_count": 2,
   "metadata": {},
   "outputs": [],
   "source": [
    "import pandas as pd\n",
    "from datetime import datetime"
   ]
  },
  {
   "cell_type": "code",
   "execution_count": 5,
   "metadata": {},
   "outputs": [],
   "source": [
    "# read in data\n",
    "match=pd.read_excel(\"C:/Users/yingy/Desktop/52 python/hw9/Match_History.xlsx\")\n",
    "student=pd.read_excel(\"C:/Users/yingy/Desktop/52 python/hw9/Student.xlsx\")\n",
    "tutor=pd.read_excel(\"C:/Users/yingy/Desktop/52 python/hw9/Tutor.xlsx\")"
   ]
  },
  {
   "cell_type": "code",
   "execution_count": 6,
   "metadata": {},
   "outputs": [
    {
     "name": "stdout",
     "output_type": "stream",
     "text": [
      "#Question1:Which tutors have a Dropped status and have achieved their certification after 4/01/2018?\n",
      "   TutorID   CertDate TutorStatus\n",
      "7      107 2018-05-01     Dropped\n"
     ]
    }
   ],
   "source": [
    "#Question1: Which tutors have a Dropped status and have achieved their certification after 4/01/2018?\n",
    "dropped = tutor[(tutor['TutorStatus']=='Dropped')&(tutor['CertDate']>'2018-04-01')]\n",
    "print('#Question1:Which tutors have a Dropped status and have achieved their certification after 4/01/2018?')\n",
    "print(dropped)"
   ]
  },
  {
   "cell_type": "code",
   "execution_count": 7,
   "metadata": {},
   "outputs": [
    {
     "name": "stdout",
     "output_type": "stream",
     "text": [
      "#Question2:What is the average length of time a student stayed (or has stayed) in the program? \n",
      "309 days 16:29:49.378867\n"
     ]
    }
   ],
   "source": [
    "#question2: What is the average length of time a student stayed (or has stayed) in the program?\n",
    "today = datetime.today()\n",
    "match.fillna(today,inplace=True)\n",
    "difference = match['EndDate']-match['StartDate']\n",
    "mean1 = difference.mean()\n",
    "print('#Question2:What is the average length of time a student stayed (or has stayed) in the program? ')\n",
    "print(mean1)"
   ]
  },
  {
   "cell_type": "code",
   "execution_count": 12,
   "metadata": {},
   "outputs": [
    {
     "name": "stdout",
     "output_type": "stream",
     "text": [
      "#Question3:Identify all students who have been matched in 2018 with a tutor whose status is Temp Stop. \n",
      "[3001]\n"
     ]
    }
   ],
   "source": [
    "#question3: Identify all students who have been matched in 2018 with a tutor whose status is Temp Stop.\n",
    "tempStudent = pd.merge(match,tutor,on='TutorID')\n",
    "#print(tempStudent)\n",
    "tempMatch = tempStudent[(tempStudent['TutorStatus']=='Temp Stop')]\n",
    "print('#Question3:Identify all students who have been matched in 2018 with a tutor whose status is Temp Stop. ')\n",
    "mylist3 = tempMatch['StudentID'].tolist()\n",
    "print(mylist3)"
   ]
  },
  {
   "cell_type": "code",
   "execution_count": 13,
   "metadata": {},
   "outputs": [
    {
     "name": "stdout",
     "output_type": "stream",
     "text": [
      "#Question4:List the Read scores of students who were ever taught by tutors whose status is Dropped.\n",
      "[1.3]\n"
     ]
    }
   ],
   "source": [
    "#question4: List the Read scores of students who were ever taught by tutors whose status is Dropped.\n",
    "readScore = pd.merge(tempStudent, student,on='StudentID',how = 'outer')\n",
    "dropStudent = readScore[(readScore['TutorStatus']=='Dropped')]\n",
    "mylist4 = dropStudent[\"ReadScore\"].tolist()\n",
    "print('#Question4:List the Read scores of students who were ever taught by tutors whose status is Dropped.')\n",
    "print(mylist4)"
   ]
  },
  {
   "cell_type": "code",
   "execution_count": 14,
   "metadata": {},
   "outputs": [
    {
     "name": "stdout",
     "output_type": "stream",
     "text": [
      "#Question5:List the tutors who taught two or more students.\n",
      "100 2\n",
      "104 2\n"
     ]
    }
   ],
   "source": [
    "#question5: List the tutors who taught two or more students. \n",
    "tutor_2 = match.groupby(['TutorID'])['StudentID'].count()\n",
    "dict1 = tutor_2.to_dict()\n",
    "print('#Question5:List the tutors who taught two or more students.')\n",
    "for key,value in dict1.items():\n",
    "    if value >=2:\n",
    "        print(key,value)"
   ]
  },
  {
   "cell_type": "code",
   "execution_count": 15,
   "metadata": {},
   "outputs": [
    {
     "name": "stdout",
     "output_type": "stream",
     "text": [
      "#Question6\n",
      "   StudentID  ReadScore  TutorID TutorStatus\n",
      "0       3000        2.3      100      Active\n",
      "1       3001        5.6      100      Active\n",
      "2       3001        5.6      101   Temp Stop\n",
      "3       3002        1.3      102     Dropped\n",
      "4       3003        3.3      106      Active\n",
      "5       3004        2.7      103      Active\n",
      "6       3005        4.8      104      Active\n",
      "7       3006        7.8      104      Active\n"
     ]
    }
   ],
   "source": [
    "#Question6: 6.Display a list of all students, their read score, their tutors, and tutors status. \n",
    "#Store this information in a file names Student_Tutor.xlsx.\n",
    "allStudent =  pd.merge(match,student, on='StudentID')\n",
    "studentsAll =pd.merge(allStudent, tutor, on='TutorID')\n",
    "columns = ['StudentID', 'ReadScore', 'TutorID', 'TutorStatus']\n",
    "data6 = pd.DataFrame(studentsAll, columns=columns)\n",
    "print('#Question6')\n",
    "print(data6)\n",
    "writer = pd.ExcelWriter(\"Student_Tutor.xlsx\")\n",
    "data6.to_excel(writer, 'Sheet1')\n",
    "writer.save()"
   ]
  },
  {
   "cell_type": "code",
   "execution_count": 16,
   "metadata": {},
   "outputs": [
    {
     "name": "stdout",
     "output_type": "stream",
     "text": [
      "#Question7:For each student group, list the number of tutors who have been matched with that group.\n",
      "StudentGroup\n",
      "1    1\n",
      "2    3\n",
      "3    3\n",
      "4    1\n",
      "Name: TutorID, dtype: int64\n"
     ]
    }
   ],
   "source": [
    "#Question7: For each student group, list the number of tutors who have been matched with that group.\n",
    "student_Group = readScore.groupby(['StudentGroup'])['TutorID'].count()\n",
    "print('#Question7:For each student group, list the number of tutors who have been matched with that group.')\n",
    "print(student_Group)"
   ]
  },
  {
   "cell_type": "code",
   "execution_count": 17,
   "metadata": {},
   "outputs": [
    {
     "name": "stdout",
     "output_type": "stream",
     "text": [
      "#Question8:List all active students who started in May and June. \n",
      "[3001 3003 3006]\n"
     ]
    }
   ],
   "source": [
    "#Question8: List all active students who started in May and June. \n",
    "readScore['StartDate']=pd.to_datetime(readScore['StartDate'])\n",
    "readScore['Month']=readScore['StartDate'].dt.month\n",
    "data8=readScore[(readScore['Month'].isin ([5,6]))&(readScore['EndDate']>='06/30/2018')]\n",
    "print('#Question8:List all active students who started in May and June. ')\n",
    "mylist8=data8['StudentID'].values\n",
    "print(mylist8)"
   ]
  },
  {
   "cell_type": "code",
   "execution_count": 19,
   "metadata": {},
   "outputs": [
    {
     "name": "stdout",
     "output_type": "stream",
     "text": [
      "   MatchID  TutorID  StudentID  StartDate                    EndDate  \\\n",
      "0      1.0    100.0       3000 2018-01-10 2019-11-19 20:59:38.757735   \n",
      "1      2.0    101.0       3001 2018-01-15 2018-05-15 00:00:00.000000   \n",
      "2      8.0    100.0       3001 2018-05-28 2019-11-19 20:59:38.757735   \n",
      "3      3.0    102.0       3002 2018-02-10 2018-03-01 00:00:00.000000   \n",
      "4      4.0    106.0       3003 2018-05-28 2019-11-19 20:59:38.757735   \n",
      "5      5.0    103.0       3004 2018-06-01 2018-06-15 00:00:00.000000   \n",
      "6      6.0    104.0       3005 2018-06-01 2018-06-28 00:00:00.000000   \n",
      "7      7.0    104.0       3006 2018-06-01 2019-11-19 20:59:38.757735   \n",
      "8      NaN      NaN       3007        NaT                        NaT   \n",
      "\n",
      "   StudentGroup  ReadScore  \n",
      "0             3        2.3  \n",
      "1             2        5.6  \n",
      "2             2        5.6  \n",
      "3             3        1.3  \n",
      "4             1        3.3  \n",
      "5             2        2.7  \n",
      "6             4        4.8  \n",
      "7             3        7.8  \n",
      "8             4        1.5  \n",
      "#Question9:Find students who have not been tutored yet. The StudentID is\n",
      "[3007]\n"
     ]
    }
   ],
   "source": [
    "#Question9: Find students who have not been tutored yet.\n",
    "allStudent=pd.merge(match,student,how='outer')\n",
    "print(allStudent)\n",
    "noTutor=allStudent[allStudent['TutorID'].isnull()]\n",
    "print('#Question9:Find students who have not been tutored yet. The StudentID is')\n",
    "mylist9=noTutor['StudentID'].tolist()\n",
    "print(mylist9)"
   ]
  },
  {
   "cell_type": "code",
   "execution_count": 20,
   "metadata": {},
   "outputs": [
    {
     "name": "stdout",
     "output_type": "stream",
     "text": [
      "   MatchID  TutorID  StudentID  StartDate                    EndDate  \\\n",
      "0      1.0      100     3000.0 2018-01-10 2019-11-19 20:59:38.757735   \n",
      "1      8.0      100     3001.0 2018-05-28 2019-11-19 20:59:38.757735   \n",
      "2      2.0      101     3001.0 2018-01-15 2018-05-15 00:00:00.000000   \n",
      "3      3.0      102     3002.0 2018-02-10 2018-03-01 00:00:00.000000   \n",
      "4      4.0      106     3003.0 2018-05-28 2019-11-19 20:59:38.757735   \n",
      "5      5.0      103     3004.0 2018-06-01 2018-06-15 00:00:00.000000   \n",
      "6      6.0      104     3005.0 2018-06-01 2018-06-28 00:00:00.000000   \n",
      "7      7.0      104     3006.0 2018-06-01 2019-11-19 20:59:38.757735   \n",
      "8      NaN      105        NaN        NaT                        NaT   \n",
      "9      NaN      107        NaN        NaT                        NaT   \n",
      "\n",
      "    CertDate TutorStatus  \n",
      "0 2018-01-05      Active  \n",
      "1 2018-01-05      Active  \n",
      "2 2018-01-05   Temp Stop  \n",
      "3 2018-01-05     Dropped  \n",
      "4 2018-05-22      Active  \n",
      "5 2018-05-22      Active  \n",
      "6 2018-05-22      Active  \n",
      "7 2018-05-22      Active  \n",
      "8 2018-05-22   Temp Stop  \n",
      "9 2018-05-01     Dropped  \n",
      "#Question10:Find tutors who did not tutor any students. The TutorID is \n",
      "[105, 107]\n"
     ]
    }
   ],
   "source": [
    "#Question10: Find tutors who did not tutor any students. \n",
    "allTutor=pd.merge(match,tutor,how='outer')\n",
    "print(allTutor)\n",
    "noStudent=allTutor[allTutor['StudentID'].isnull()]\n",
    "print('#Question10:Find tutors who did not tutor any students. The TutorID is ')\n",
    "mylist10=noStudent['TutorID'].tolist()\n",
    "print(mylist10)"
   ]
  },
  {
   "cell_type": "code",
   "execution_count": null,
   "metadata": {},
   "outputs": [],
   "source": []
  }
 ],
 "metadata": {
  "kernelspec": {
   "display_name": "Python 3",
   "language": "python",
   "name": "python3"
  },
  "language_info": {
   "codemirror_mode": {
    "name": "ipython",
    "version": 3
   },
   "file_extension": ".py",
   "mimetype": "text/x-python",
   "name": "python",
   "nbconvert_exporter": "python",
   "pygments_lexer": "ipython3",
   "version": "3.7.3"
  }
 },
 "nbformat": 4,
 "nbformat_minor": 2
}
